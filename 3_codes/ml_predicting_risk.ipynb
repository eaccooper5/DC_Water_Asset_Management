{
 "cells": [
  {
   "cell_type": "code",
   "execution_count": 1,
   "metadata": {},
   "outputs": [],
   "source": [
    "# Import modules\n",
    "from warnings import simplefilter\n",
    "simplefilter(action='ignore', category=FutureWarning)\n",
    "import pandas as pd\n",
    "from pathlib import Path\n",
    "from sklearn.model_selection import train_test_split\n",
    "from sklearn.metrics import classification_report\n",
    "from sklearn.preprocessing import StandardScaler\n",
    "from sklearn.metrics import confusion_matrix, accuracy_score"
   ]
  },
  {
   "cell_type": "code",
   "execution_count": 3,
   "metadata": {
    "scrolled": true
   },
   "outputs": [
    {
     "data": {
      "text/html": [
       "<div>\n",
       "<style scoped>\n",
       "    .dataframe tbody tr th:only-of-type {\n",
       "        vertical-align: middle;\n",
       "    }\n",
       "\n",
       "    .dataframe tbody tr th {\n",
       "        vertical-align: top;\n",
       "    }\n",
       "\n",
       "    .dataframe thead th {\n",
       "        text-align: right;\n",
       "    }\n",
       "</style>\n",
       "<table border=\"1\" class=\"dataframe\">\n",
       "  <thead>\n",
       "    <tr style=\"text-align: right;\">\n",
       "      <th></th>\n",
       "      <th>Seg_ID</th>\n",
       "      <th>UP_MH</th>\n",
       "      <th>DS_MH</th>\n",
       "      <th>Dia_Inch</th>\n",
       "      <th>Shape</th>\n",
       "      <th>Material</th>\n",
       "      <th>Length_Ft</th>\n",
       "      <th>MWL</th>\n",
       "      <th>DS</th>\n",
       "      <th>defects</th>\n",
       "      <th>Video Quality</th>\n",
       "      <th>Jurisdiction</th>\n",
       "      <th>risk score</th>\n",
       "      <th>Inspection_cycle</th>\n",
       "    </tr>\n",
       "  </thead>\n",
       "  <tbody>\n",
       "    <tr>\n",
       "      <th>0</th>\n",
       "      <td>1.0</td>\n",
       "      <td>118.2</td>\n",
       "      <td>117.0</td>\n",
       "      <td>30</td>\n",
       "      <td>Circular</td>\n",
       "      <td>RCP</td>\n",
       "      <td>222.0</td>\n",
       "      <td>55</td>\n",
       "      <td>0.12</td>\n",
       "      <td>SAV</td>\n",
       "      <td>Good</td>\n",
       "      <td>Dulles Aiport</td>\n",
       "      <td>5</td>\n",
       "      <td>1</td>\n",
       "    </tr>\n",
       "    <tr>\n",
       "      <th>1</th>\n",
       "      <td>1.5</td>\n",
       "      <td>118.2</td>\n",
       "      <td>117.0</td>\n",
       "      <td>30</td>\n",
       "      <td>Circular</td>\n",
       "      <td>RCP</td>\n",
       "      <td>222.0</td>\n",
       "      <td>55</td>\n",
       "      <td>0.12</td>\n",
       "      <td>SAV</td>\n",
       "      <td>Good</td>\n",
       "      <td>Dulles Aiport</td>\n",
       "      <td>5</td>\n",
       "      <td>1</td>\n",
       "    </tr>\n",
       "    <tr>\n",
       "      <th>2</th>\n",
       "      <td>2.0</td>\n",
       "      <td>117.0</td>\n",
       "      <td>116.0</td>\n",
       "      <td>30</td>\n",
       "      <td>Circular</td>\n",
       "      <td>RCP</td>\n",
       "      <td>248.0</td>\n",
       "      <td>25</td>\n",
       "      <td>0.20</td>\n",
       "      <td>SAV</td>\n",
       "      <td>Good</td>\n",
       "      <td>Dulles Aiport</td>\n",
       "      <td>2</td>\n",
       "      <td>9</td>\n",
       "    </tr>\n",
       "    <tr>\n",
       "      <th>3</th>\n",
       "      <td>2.5</td>\n",
       "      <td>117.0</td>\n",
       "      <td>116.0</td>\n",
       "      <td>30</td>\n",
       "      <td>Circular</td>\n",
       "      <td>RCP</td>\n",
       "      <td>248.0</td>\n",
       "      <td>25</td>\n",
       "      <td>0.20</td>\n",
       "      <td>SAV</td>\n",
       "      <td>Good</td>\n",
       "      <td>Dulles Aiport</td>\n",
       "      <td>2</td>\n",
       "      <td>9</td>\n",
       "    </tr>\n",
       "    <tr>\n",
       "      <th>4</th>\n",
       "      <td>3.0</td>\n",
       "      <td>116.0</td>\n",
       "      <td>115.8</td>\n",
       "      <td>30</td>\n",
       "      <td>Circular</td>\n",
       "      <td>RCP</td>\n",
       "      <td>209.0</td>\n",
       "      <td>25</td>\n",
       "      <td>0.00</td>\n",
       "      <td>SAV</td>\n",
       "      <td>Good</td>\n",
       "      <td>Dulles Aiport</td>\n",
       "      <td>2</td>\n",
       "      <td>9</td>\n",
       "    </tr>\n",
       "    <tr>\n",
       "      <th>...</th>\n",
       "      <td>...</td>\n",
       "      <td>...</td>\n",
       "      <td>...</td>\n",
       "      <td>...</td>\n",
       "      <td>...</td>\n",
       "      <td>...</td>\n",
       "      <td>...</td>\n",
       "      <td>...</td>\n",
       "      <td>...</td>\n",
       "      <td>...</td>\n",
       "      <td>...</td>\n",
       "      <td>...</td>\n",
       "      <td>...</td>\n",
       "      <td>...</td>\n",
       "    </tr>\n",
       "    <tr>\n",
       "      <th>492</th>\n",
       "      <td>225.0</td>\n",
       "      <td>36206.0</td>\n",
       "      <td>36207.0</td>\n",
       "      <td>60</td>\n",
       "      <td>Circular</td>\n",
       "      <td>DIP</td>\n",
       "      <td>200.0</td>\n",
       "      <td>95</td>\n",
       "      <td>0.00</td>\n",
       "      <td>SRC</td>\n",
       "      <td>Poor</td>\n",
       "      <td>DC</td>\n",
       "      <td>5</td>\n",
       "      <td>1</td>\n",
       "    </tr>\n",
       "    <tr>\n",
       "      <th>493</th>\n",
       "      <td>226.0</td>\n",
       "      <td>36206.0</td>\n",
       "      <td>36207.0</td>\n",
       "      <td>42</td>\n",
       "      <td>Circular</td>\n",
       "      <td>DIP</td>\n",
       "      <td>200.0</td>\n",
       "      <td>95</td>\n",
       "      <td>0.00</td>\n",
       "      <td>SAV</td>\n",
       "      <td>Poor</td>\n",
       "      <td>DC</td>\n",
       "      <td>1</td>\n",
       "      <td>3</td>\n",
       "    </tr>\n",
       "    <tr>\n",
       "      <th>494</th>\n",
       "      <td>227.0</td>\n",
       "      <td>36184.0</td>\n",
       "      <td>36184.5</td>\n",
       "      <td>108</td>\n",
       "      <td>Circular</td>\n",
       "      <td>RCP</td>\n",
       "      <td>341.0</td>\n",
       "      <td>30</td>\n",
       "      <td>0.00</td>\n",
       "      <td>SRP</td>\n",
       "      <td>NaN</td>\n",
       "      <td>DC</td>\n",
       "      <td>4</td>\n",
       "      <td>9</td>\n",
       "    </tr>\n",
       "    <tr>\n",
       "      <th>495</th>\n",
       "      <td>228.0</td>\n",
       "      <td>37500.0</td>\n",
       "      <td>36184.0</td>\n",
       "      <td>108</td>\n",
       "      <td>Circular</td>\n",
       "      <td>RCP</td>\n",
       "      <td>212.5</td>\n",
       "      <td>30</td>\n",
       "      <td>0.00</td>\n",
       "      <td>SRP</td>\n",
       "      <td>NaN</td>\n",
       "      <td>DC</td>\n",
       "      <td>4</td>\n",
       "      <td>9</td>\n",
       "    </tr>\n",
       "    <tr>\n",
       "      <th>496</th>\n",
       "      <td>228.5</td>\n",
       "      <td>37500.0</td>\n",
       "      <td>36184.0</td>\n",
       "      <td>108</td>\n",
       "      <td>Circular</td>\n",
       "      <td>RCP</td>\n",
       "      <td>212.5</td>\n",
       "      <td>30</td>\n",
       "      <td>0.00</td>\n",
       "      <td>SRP</td>\n",
       "      <td>NaN</td>\n",
       "      <td>DC</td>\n",
       "      <td>4</td>\n",
       "      <td>9</td>\n",
       "    </tr>\n",
       "  </tbody>\n",
       "</table>\n",
       "<p>497 rows × 14 columns</p>\n",
       "</div>"
      ],
      "text/plain": [
       "     Seg_ID    UP_MH    DS_MH  Dia_Inch     Shape Material  Length_Ft  MWL  \\\n",
       "0       1.0    118.2    117.0        30  Circular      RCP      222.0   55   \n",
       "1       1.5    118.2    117.0        30  Circular      RCP      222.0   55   \n",
       "2       2.0    117.0    116.0        30  Circular      RCP      248.0   25   \n",
       "3       2.5    117.0    116.0        30  Circular      RCP      248.0   25   \n",
       "4       3.0    116.0    115.8        30  Circular      RCP      209.0   25   \n",
       "..      ...      ...      ...       ...       ...      ...        ...  ...   \n",
       "492   225.0  36206.0  36207.0        60  Circular      DIP      200.0   95   \n",
       "493   226.0  36206.0  36207.0        42  Circular      DIP      200.0   95   \n",
       "494   227.0  36184.0  36184.5       108  Circular      RCP      341.0   30   \n",
       "495   228.0  37500.0  36184.0       108  Circular      RCP      212.5   30   \n",
       "496   228.5  37500.0  36184.0       108  Circular      RCP      212.5   30   \n",
       "\n",
       "       DS defects Video Quality   Jurisdiction  risk score  Inspection_cycle  \n",
       "0    0.12     SAV          Good  Dulles Aiport           5                 1  \n",
       "1    0.12     SAV          Good  Dulles Aiport           5                 1  \n",
       "2    0.20     SAV          Good  Dulles Aiport           2                 9  \n",
       "3    0.20     SAV          Good  Dulles Aiport           2                 9  \n",
       "4    0.00     SAV          Good  Dulles Aiport           2                 9  \n",
       "..    ...     ...           ...            ...         ...               ...  \n",
       "492  0.00     SRC          Poor             DC           5                 1  \n",
       "493  0.00     SAV          Poor             DC           1                 3  \n",
       "494  0.00     SRP           NaN             DC           4                 9  \n",
       "495  0.00     SRP           NaN             DC           4                 9  \n",
       "496  0.00     SRP           NaN             DC           4                 9  \n",
       "\n",
       "[497 rows x 14 columns]"
      ]
     },
     "execution_count": 3,
     "metadata": {},
     "output_type": "execute_result"
    }
   ],
   "source": [
    "# Read the CSV file into a Pandas DataFrame\n",
    "df = pd.read_csv(\n",
    "    Path('../2_resource/ml_inspection_data/InspectionList3.csv')   \n",
    ")\n",
    "\n",
    "# Review the DataFrame\n",
    "df"
   ]
  },
  {
   "cell_type": "markdown",
   "metadata": {},
   "source": [
    "### 2. Separate the features `X` from the target `y`"
   ]
  },
  {
   "cell_type": "code",
   "execution_count": null,
   "metadata": {},
   "outputs": [],
   "source": [
    "# Seperate the features, X,  from the target variable, y\n",
    "y = df['risk score']\n",
    "X = df.drop(columns='risk score')"
   ]
  },
  {
   "cell_type": "code",
   "execution_count": null,
   "metadata": {},
   "outputs": [],
   "source": [
    "# Preview the features data\n",
    "X.head()"
   ]
  },
  {
   "cell_type": "code",
   "execution_count": null,
   "metadata": {},
   "outputs": [],
   "source": [
    "y.value_counts()"
   ]
  },
  {
   "cell_type": "code",
   "execution_count": null,
   "metadata": {},
   "outputs": [],
   "source": [
    "# Preview the first five entries for the target variable\n",
    "y[:10]"
   ]
  },
  {
   "cell_type": "markdown",
   "metadata": {},
   "source": [
    "### 3. Encode the categorical variables from the features data using `get_dummies`."
   ]
  },
  {
   "cell_type": "code",
   "execution_count": null,
   "metadata": {},
   "outputs": [],
   "source": [
    "# Encode the categorical variables using get_dummies\n",
    "X = pd.get_dummies(X)"
   ]
  },
  {
   "cell_type": "code",
   "execution_count": null,
   "metadata": {},
   "outputs": [],
   "source": [
    "# Review the features data\n",
    "X.head()"
   ]
  },
  {
   "cell_type": "markdown",
   "metadata": {},
   "source": [
    "### 4. Separate the data into training and testing subsets."
   ]
  },
  {
   "cell_type": "code",
   "execution_count": null,
   "metadata": {},
   "outputs": [],
   "source": [
    "# Split the dataset using train_test_split\n",
    "X_train, X_test, y_train, y_test = train_test_split(X, y, random_state=1)"
   ]
  },
  {
   "cell_type": "markdown",
   "metadata": {},
   "source": [
    "### 5. Scale the data using `StandardScaler`"
   ]
  },
  {
   "cell_type": "code",
   "execution_count": null,
   "metadata": {},
   "outputs": [],
   "source": [
    "# Instantiate a StandardScaler instance\n",
    "scaler = StandardScaler()\n",
    "\n",
    "# Fit the training data to the standard scaler\n",
    "X_scaler = scaler.fit(X_train)\n",
    "\n",
    "# Transform the training data using the scaler\n",
    "X_train_scaled = X_scaler.transform(X_train)\n",
    "\n",
    "# Transform the testing data using the scaler\n",
    "X_test_scaled = X_scaler.transform(X_test)"
   ]
  },
  {
   "cell_type": "markdown",
   "metadata": {},
   "source": [
    "### 6. Instantiate an K Nearest Neighbor Classifier instance."
   ]
  },
  {
   "cell_type": "code",
   "execution_count": null,
   "metadata": {},
   "outputs": [],
   "source": [
    "# Import the KNeighborsClassifier module from sklearn\n",
    "from sklearn.neighbors import KNeighborsClassifier\n",
    "\n",
    "# Instantiate the KNeighborsClassifier model with n_neighbors = 3 \n",
    "knn = KNeighborsClassifier(n_neighbors=3)"
   ]
  },
  {
   "cell_type": "markdown",
   "metadata": {},
   "source": [
    "### 7. Fit the model using the training data."
   ]
  },
  {
   "cell_type": "code",
   "execution_count": null,
   "metadata": {},
   "outputs": [],
   "source": [
    "# Train the model using the training data\n",
    "knn.fit(X_train_scaled, y_train)"
   ]
  },
  {
   "cell_type": "markdown",
   "metadata": {},
   "source": [
    "### 8. Make predictions using the testing data."
   ]
  },
  {
   "cell_type": "code",
   "execution_count": null,
   "metadata": {},
   "outputs": [],
   "source": [
    "# Create predictions using the testing data\n",
    "y_pred = knn.predict(X_test_scaled)"
   ]
  },
  {
   "cell_type": "markdown",
   "metadata": {},
   "source": [
    "### 9. Generate the classification report for the test data."
   ]
  },
  {
   "cell_type": "code",
   "execution_count": null,
   "metadata": {},
   "outputs": [],
   "source": [
    "# Print the classification report comparing the testing data to the model predictions\n",
    "print(classification_report(y_test, y_pred))"
   ]
  },
  {
   "cell_type": "code",
   "execution_count": null,
   "metadata": {},
   "outputs": [],
   "source": [
    "from collections import Counter\n",
    "from imblearn.over_sampling import SMOTE\n",
    "sm = SMOTE(random_state=42)\n",
    "X_res, y_res = sm.fit_resample(X_train_scaled, y_train)\n",
    "print('Resampled dataset shape %s' % Counter(y_res))"
   ]
  },
  {
   "cell_type": "code",
   "execution_count": null,
   "metadata": {},
   "outputs": [],
   "source": [
    "knn = KNeighborsClassifier(n_neighbors=3)\n",
    "knn.fit(X_res, y_res)\n",
    "y_pred = knn.predict(X_test_scaled)\n",
    "print(classification_report(y_test, y_pred))"
   ]
  },
  {
   "cell_type": "code",
   "execution_count": null,
   "metadata": {},
   "outputs": [],
   "source": [
    "# Calculating the confusion matrix\n",
    "\n",
    "cm = confusion_matrix(y_test, y_pred)\n",
    "# cm_df = pd.DataFrame(\n",
    "#     cm, index=[\"Actual 0\", \"Actual 1\", \"Actual 2\", \"Actual 3\"], columns=[\"Predicted 0\", \"Predicted 1\",\"Predicted 2\", \"Predicted 3\"]\n",
    "# )\n",
    "# Calculating the accuracy score\n",
    "acc_score = accuracy_score(y_test, y_pred)\n",
    "print(f\"confusion Matrix: \\n {cm}\")\n",
    "print(f\"Accuracy: {acc_score}\")"
   ]
  },
  {
   "cell_type": "code",
   "execution_count": null,
   "metadata": {},
   "outputs": [],
   "source": []
  },
  {
   "cell_type": "code",
   "execution_count": null,
   "metadata": {},
   "outputs": [],
   "source": []
  }
 ],
 "metadata": {
  "kernelspec": {
   "display_name": "Python 3 (ipykernel)",
   "language": "python",
   "name": "python3"
  },
  "language_info": {
   "codemirror_mode": {
    "name": "ipython",
    "version": 3
   },
   "file_extension": ".py",
   "mimetype": "text/x-python",
   "name": "python",
   "nbconvert_exporter": "python",
   "pygments_lexer": "ipython3",
   "version": "3.10.13"
  }
 },
 "nbformat": 4,
 "nbformat_minor": 4
}
